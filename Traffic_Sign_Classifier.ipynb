{
 "cells": [
  {
   "cell_type": "markdown",
   "metadata": {},
   "source": [
    "# Self-Driving Car Engineer Nanodegree\n",
    "\n",
    "## Deep Learning\n",
    "\n",
    "## Project: Build a Traffic Sign Recognition Classifier\n",
    "\n",
    "In this notebook, a template is provided for you to implement your functionality in stages, which is required to successfully complete this project. If additional code is required that cannot be included in the notebook, be sure that the Python code is successfully imported and included in your submission if necessary. \n",
    "\n",
    "> **Note**: Once you have completed all of the code implementations, you need to finalize your work by exporting the iPython Notebook as an HTML document. Before exporting the notebook to html, all of the code cells need to have been run so that reviewers can see the final implementation and output. You can then export the notebook by using the menu above and navigating to  \\n\",\n",
    "    \"**File -> Download as -> HTML (.html)**. Include the finished document along with this notebook as your submission. \n",
    "\n",
    "In addition to implementing code, there is a writeup to complete. The writeup should be completed in a separate file, which can be either a markdown file or a pdf document. There is a [write up template](https://github.com/udacity/CarND-Traffic-Sign-Classifier-Project/blob/master/writeup_template.md) that can be used to guide the writing process. Completing the code template and writeup template will cover all of the [rubric points](https://review.udacity.com/#!/rubrics/481/view) for this project.\n",
    "\n",
    "The [rubric](https://review.udacity.com/#!/rubrics/481/view) contains \"Stand Out Suggestions\" for enhancing the project beyond the minimum requirements. The stand out suggestions are optional. If you decide to pursue the \"stand out suggestions\", you can include the code in this Ipython notebook and also discuss the results in the writeup file.\n",
    "\n",
    "\n",
    ">**Note:** Code and Markdown cells can be executed using the **Shift + Enter** keyboard shortcut. In addition, Markdown cells can be edited by typically double-clicking the cell to enter edit mode."
   ]
  },
  {
   "cell_type": "markdown",
   "metadata": {},
   "source": [
    "---\n",
    "## Step 0: Load The Data"
   ]
  },
  {
   "cell_type": "code",
   "execution_count": 1,
   "metadata": {},
   "outputs": [
    {
     "name": "stdout",
     "output_type": "stream",
     "text": [
      "\n",
      "Image Shape: (32, 32, 3)\n",
      "\n",
      "Training Set:   34799 samples\n",
      "Validation Set: 12630 samples\n",
      "Test Set:       4410 samples\n"
     ]
    }
   ],
   "source": [
    "# Load pickled data\n",
    "import pickle\n",
    "\n",
    "# TODO: Fill this in based on where you saved the training and testing data\n",
    "\n",
    "training_file = \"../data/train.p\"\n",
    "validation_file= \"../data/test.p\"\n",
    "testing_file = \"../data/valid.p\"\n",
    "\n",
    "with open(training_file, mode='rb') as f:\n",
    "    train = pickle.load(f)\n",
    "with open(validation_file, mode='rb') as f:\n",
    "    valid = pickle.load(f)\n",
    "with open(testing_file, mode='rb') as f:\n",
    "    test = pickle.load(f)\n",
    "    \n",
    "X_train, y_train = train['features'], train['labels']\n",
    "X_valid, y_valid = valid['features'], valid['labels']\n",
    "X_test, y_test = test['features'], test['labels']\n",
    "\n",
    "assert(len(X_train) == len(y_train))\n",
    "assert(len(X_valid) == len(y_valid))\n",
    "assert(len(X_test) == len(y_test))\n",
    "\n",
    "print()\n",
    "print(\"Image Shape: {}\".format(X_train[0].shape))\n",
    "print()\n",
    "print(\"Training Set:   {} samples\".format(len(X_train)))\n",
    "print(\"Validation Set: {} samples\".format(len(X_valid)))\n",
    "print(\"Test Set:       {} samples\".format(len(X_test)))"
   ]
  },
  {
   "cell_type": "markdown",
   "metadata": {},
   "source": [
    "---\n",
    "\n",
    "## Step 1: Dataset Summary & Exploration\n",
    "\n",
    "The pickled data is a dictionary with 4 key/value pairs:\n",
    "\n",
    "- `'features'` is a 4D array containing raw pixel data of the traffic sign images, (num examples, width, height, channels).\n",
    "- `'labels'` is a 1D array containing the label/class id of the traffic sign. The file `signnames.csv` contains id -> name mappings for each id.\n",
    "- `'sizes'` is a list containing tuples, (width, height) representing the original width and height the image.\n",
    "- `'coords'` is a list containing tuples, (x1, y1, x2, y2) representing coordinates of a bounding box around the sign in the image. **THESE COORDINATES ASSUME THE ORIGINAL IMAGE. THE PICKLED DATA CONTAINS RESIZED VERSIONS (32 by 32) OF THESE IMAGES**\n",
    "\n",
    "Complete the basic data summary below. Use python, numpy and/or pandas methods to calculate the data summary rather than hard coding the results. For example, the [pandas shape method](http://pandas.pydata.org/pandas-docs/stable/generated/pandas.DataFrame.shape.html) might be useful for calculating some of the summary results. "
   ]
  },
  {
   "cell_type": "markdown",
   "metadata": {},
   "source": [
    "### Provide a Basic Summary of the Data Set Using Python, Numpy and/or Pandas"
   ]
  },
  {
   "cell_type": "code",
   "execution_count": 2,
   "metadata": {},
   "outputs": [
    {
     "name": "stdout",
     "output_type": "stream",
     "text": [
      "Number of training examples = 34799\n",
      "Number of testing examples = 4410\n",
      "Image data shape = (32, 32, 3)\n",
      "Number of classes = 43\n"
     ]
    }
   ],
   "source": [
    "### Replace each question mark with the appropriate value. \n",
    "### Use python, pandas or numpy methods rather than hard coding the results\n",
    "\n",
    "# TODO: Number of training examples\n",
    "n_train = len(X_train)\n",
    "\n",
    "# TODO: Number of validation examples\n",
    "n_validation = len(X_valid)\n",
    "\n",
    "# TODO: Number of testing examples.\n",
    "n_test = len(X_test)\n",
    "\n",
    "# TODO: What's the shape of an traffic sign image?\n",
    "image_shape = X_train[0].shape\n",
    "\n",
    "# TODO: How many unique classes/labels there are in the dataset.\n",
    "n_classes = 43\n",
    "\n",
    "print(\"Number of training examples =\", n_train)\n",
    "print(\"Number of testing examples =\", n_test)\n",
    "print(\"Image data shape =\", image_shape)\n",
    "print(\"Number of classes =\", n_classes)"
   ]
  },
  {
   "cell_type": "markdown",
   "metadata": {},
   "source": [
    "### Include an exploratory visualization of the dataset"
   ]
  },
  {
   "cell_type": "markdown",
   "metadata": {},
   "source": [
    "Visualize the German Traffic Signs Dataset using the pickled file(s). This is open ended, suggestions include: plotting traffic sign images, plotting the count of each sign, etc. \n",
    "\n",
    "The [Matplotlib](http://matplotlib.org/) [examples](http://matplotlib.org/examples/index.html) and [gallery](http://matplotlib.org/gallery.html) pages are a great resource for doing visualizations in Python.\n",
    "\n",
    "**NOTE:** It's recommended you start with something simple first. If you wish to do more, come back to it after you've completed the rest of the sections. It can be interesting to look at the distribution of classes in the training, validation and test set. Is the distribution the same? Are there more examples of some classes than others?"
   ]
  },
  {
   "cell_type": "code",
   "execution_count": 3,
   "metadata": {},
   "outputs": [
    {
     "data": {
      "image/png": "[encoded data removed]",
      "text/plain": [
       "<matplotlib.figure.Figure at 0x7f2cd0bdbd30>"
      ]
     },
     "metadata": {
      "needs_background": "light"
     },
     "output_type": "display_data"
    },
    {
     "data": {
      "image/png": "[encoded data removed]",
      "text/plain": [
       "<matplotlib.figure.Figure at 0x7f2cc0d17470>"
      ]
     },
     "metadata": {
      "needs_background": "light"
     },
     "output_type": "display_data"
    },
    {
     "data": {
      "image/png": "[encoded data removed]",
      "text/plain": [
       "<matplotlib.figure.Figure at 0x7f2cc0c18470>"
      ]
     },
     "metadata": {
      "needs_background": "light"
     },
     "output_type": "display_data"
    }
   ],
   "source": [
    "### Data exploration visualization code goes here.\n",
    "### Feel free to use as many code cells as needed.\n",
    "import random\n",
    "import numpy as np\n",
    "import matplotlib.pyplot as plt\n",
    "%matplotlib inline\n",
    "\n",
    "output_images_dir = \"./output images/\"\n",
    "train_distribution, valid_distribution, test_distribution = np.zeros(n_classes), np.zeros(n_classes), np.zeros(n_classes)\n",
    "for c in range(n_classes):\n",
    "    train_distribution[c] = np.sum(y_train == c) / n_train\n",
    "    valid_distribution[c] = np.sum(y_valid == c) / n_validation\n",
    "    test_distribution[c] = np.sum(y_test == c) / n_test\n",
    "\n",
    "# Visual for training set    \n",
    "fig, ax = plt.subplots()\n",
    "col_width = .8\n",
    "bar_train = ax.bar(np.arange(n_classes), train_distribution, width=col_width, color='r')\n",
    "\n",
    "ax.set_ylabel('PERCENTAGE OF PRESENCE')\n",
    "ax.set_xlabel('Training data set')\n",
    "ax.set_title('Classes distribution in traffic-sign dataset')\n",
    "ax.set_xticks(np.arange(0, n_classes, 5)+col_width)\n",
    "ax.set_xticklabels(['{:02d}'.format(c) for c in range(0, n_classes, 5)])\n",
    "plt.savefig(output_images_dir+\"training.png\")\n",
    "plt.show()\n",
    "\n",
    "# Visual for testing set  \n",
    "fig, ax = plt.subplots()\n",
    "bar_test = ax.bar(np.arange(n_classes)+col_width, test_distribution, width=col_width, color='b')\n",
    "\n",
    "ax.set_ylabel('PERCENTAGE OF PRESENCE')\n",
    "ax.set_xlabel('Testing data set')\n",
    "ax.set_title('Classes distribution in traffic-sign dataset')\n",
    "ax.set_xticks(np.arange(0, n_classes, 5)+col_width)\n",
    "ax.set_xticklabels(['{:02d}'.format(c) for c in range(0, n_classes, 5)])\n",
    "plt.savefig(output_images_dir+\"testing.png\")\n",
    "plt.show()\n",
    "\n",
    "# Visual for validation set  \n",
    "fig, ax = plt.subplots()\n",
    "bar_valid = ax.bar(np.arange(n_classes)+col_width, valid_distribution, width=col_width, color='g')\n",
    "\n",
    "ax.set_ylabel('PERCENTAGE OF PRESENCE')\n",
    "ax.set_xlabel('Validation data set')\n",
    "ax.set_title('Classes distribution in traffic-sign dataset')\n",
    "ax.set_xticks(np.arange(0, n_classes, 5)+col_width)\n",
    "ax.set_xticklabels(['{:02d}'.format(c) for c in range(0, n_classes, 5)])\n",
    "plt.savefig(output_images_dir+\"validation.png\")\n",
    "plt.show()"
   ]
  },
  {
   "cell_type": "markdown",
   "metadata": {},
   "source": [
    "----\n",
    "\n",
    "## Step 2: Design and Test a Model Architecture\n",
    "\n",
    "Design and implement a deep learning model that learns to recognize traffic signs. Train and test your model on the [German Traffic Sign Dataset](http://benchmark.ini.rub.de/?section=gtsrb&subsection=dataset).\n",
    "\n",
    "The LeNet-5 implementation shown in the [classroom](https://classroom.udacity.com/nanodegrees/nd013/parts/fbf77062-5703-404e-b60c-95b78b2f3f9e/modules/6df7ae49-c61c-4bb2-a23e-6527e69209ec/lessons/601ae704-1035-4287-8b11-e2c2716217ad/concepts/d4aca031-508f-4e0b-b493-e7b706120f81) at the end of the CNN lesson is a solid starting point. You'll have to change the number of classes and possibly the preprocessing, but aside from that it's plug and play! \n",
    "\n",
    "With the LeNet-5 solution from the lecture, you should expect a validation set accuracy of about 0.89. To meet specifications, the validation set accuracy will need to be at least 0.93. It is possible to get an even higher accuracy, but 0.93 is the minimum for a successful project submission. \n",
    "\n",
    "There are various aspects to consider when thinking about this problem:\n",
    "\n",
    "- Neural network architecture (is the network over or underfitting?)\n",
    "- Play around preprocessing techniques (normalization, rgb to grayscale, etc)\n",
    "- Number of examples per label (some have more than others).\n",
    "- Generate fake data.\n",
    "\n",
    "Here is an example of a [published baseline model on this problem](http://yann.lecun.com/exdb/publis/pdf/sermanet-ijcnn-11.pdf). It's not required to be familiar with the approach used in the paper but, it's good practice to try to read papers like these."
   ]
  },
  {
   "cell_type": "markdown",
   "metadata": {},
   "source": [
    "### Pre-process the Data Set (normalization, grayscale, etc.)"
   ]
  },
  {
   "cell_type": "markdown",
   "metadata": {},
   "source": [
    "Minimally, the image data should be normalized so that the data has mean zero and equal variance. For image data, `(pixel - 128)/ 128` is a quick way to approximately normalize the data and can be used in this project. \n",
    "\n",
    "Other pre-processing steps are optional. You can try different techniques to see if it improves performance. \n",
    "\n",
    "Use the code cell (or multiple code cells, if necessary) to implement the first step of your project."
   ]
  },
  {
   "cell_type": "code",
   "execution_count": 4,
   "metadata": {},
   "outputs": [],
   "source": [
    "### Preprocess the data here. It is required to normalize the data. Other preprocessing steps could include \n",
    "### converting to grayscale, etc.\n",
    "### Feel free to use as many code cells as needed.\n",
    "\n",
    "from sklearn.utils import shuffle\n",
    "import cv2 \n",
    "\n",
    "X_train, y_train = shuffle(X_train, y_train)\n",
    "\n",
    "# found online from a former student\n",
    "# they followed this paper http://yann.lecun.com/exdb/publis/pdf/sermanet-ijcnn-11.pdf\n",
    "# as a means to normalize the images for better processing\n",
    "def preprocess_features(X):\n",
    "  \n",
    "    # convert from RGB to YUV\n",
    "    X = np.array([np.expand_dims(cv2.cvtColor(rgb_img, cv2.COLOR_RGB2YUV)[:, :, 0], 2) for rgb_img in X])\n",
    "    \n",
    "    # adjust image contrast\n",
    "    X = np.array([np.expand_dims(cv2.equalizeHist(np.uint8(img)), 2) for img in X])\n",
    "    X = np.float32(X)\n",
    "    \n",
    "    # standardize features\n",
    "    X -= np.mean(X, axis=0)\n",
    "    X /= (np.std(X, axis=0) + np.finfo('float32').eps)\n",
    "\n",
    "    \n",
    "    return X\n",
    "\n",
    "X_train = preprocess_features(X_train)\n",
    "X_test = preprocess_features(X_test)\n",
    "X_valid = preprocess_features(X_valid)"
   ]
  },
  {
   "cell_type": "markdown",
   "metadata": {},
   "source": [
    "### Model Architecture"
   ]
  },
  {
   "cell_type": "code",
   "execution_count": 5,
   "metadata": {},
   "outputs": [],
   "source": [
    "### Define your architecture here.\n",
    "### Feel free to use as many code cells as needed.\n",
    "import tensorflow as tf\n",
    "from tensorflow.contrib.layers import flatten\n",
    "\n",
    "\n",
    "EPOCHS = 10\n",
    "BATCH_SIZE = 128\n",
    "\n",
    "def conv2d(x, W, b, strides=1):\n",
    "    x = tf.nn.conv2d(input=x, filter=W, strides=[1, strides, strides, 1], padding='VALID')\n",
    "    x = x + b\n",
    "    return x\n",
    "\n",
    "def maxpool2d(x, k=2):\n",
    "    return tf.nn.max_pool(\n",
    "        value=x,\n",
    "        ksize=[1, k, k, 1],\n",
    "        strides=[1, k, k, 1],\n",
    "        padding='VALID')\n",
    "\n",
    "  \n",
    "def LeNet(x): \n",
    "    \n",
    "    # Arguments used for tf.truncated_normal, randomly defines variables for the weights and biases for each layer\n",
    "    mu = 0\n",
    "    sigma = 0.1\n",
    "    \n",
    "    # Layer 1: Convolutional. Input = 32x32x1. Output = 28x28x6.\n",
    "    conv1_W = tf.Variable(tf.truncated_normal(shape=(5, 5, 1, 6), mean = mu, stddev = sigma))\n",
    "    conv1_b = tf.Variable(tf.zeros(6))\n",
    "    conv1   = conv2d(x, conv1_W, conv1_b)\n",
    "    conv1 = tf.nn.relu(conv1)\n",
    "    \n",
    "    # Pooling. Input = 28x28x6. Output = 14x14x6.\n",
    "    conv1 = maxpool2d(conv1)\n",
    "    \n",
    "\n",
    "    # Layer 2: Convolutional. Output = 10x10x16.\n",
    "    conv2_W = tf.Variable(tf.truncated_normal(shape=(5, 5, 6, 16), mean = mu, stddev = sigma))\n",
    "    conv2_b = tf.Variable(tf.zeros(16))\n",
    "    conv2   = conv2d(conv1, conv2_W, conv2_b)\n",
    "    conv2 = tf.nn.relu(conv2)\n",
    "    \n",
    "    # Pooling. Input = 10x10x16. Output = 5x5x16.\n",
    "    conv2 = maxpool2d(conv2)\n",
    "\n",
    "    # Flatten. Input = 5x5x16. Output = 400.\n",
    "    fc0   = flatten(conv2)\n",
    "    \n",
    "    # Layer 3: Fully Connected. Input = 400. Output = 120.\n",
    "    fc1_W = tf.Variable(tf.truncated_normal(shape=(fc0._shape[1].value, 120), mean = mu, stddev = sigma))\n",
    "    fc1_b = tf.Variable(tf.zeros(120))\n",
    "    fc1   = tf.matmul(fc0, fc1_W) + fc1_b\n",
    "    fc1   = tf.nn.dropout(fc1, keep_prob=keep_prob)\n",
    "    fc1    = tf.nn.relu(fc1)\n",
    "    \n",
    "    # Layer 2: Fully Connected. Input = 120. Output = 43 = n_classes!\n",
    "    fc2_W  = tf.Variable(tf.truncated_normal(shape=(120, n_classes), mean = mu, stddev = sigma))\n",
    "    fc2_b  = tf.Variable(tf.zeros(n_classes))\n",
    "    logits = tf.matmul(fc1, fc2_W) + fc2_b\n",
    "    \n",
    "    return logits\n",
    "\n",
    "\n",
    "x = tf.placeholder(tf.float32, (None, 32, 32, 1))\n",
    "y = tf.placeholder(tf.int32, (None))\n",
    "keep_prob = tf.placeholder(tf.float32)\n",
    "one_hot_y = tf.one_hot(y, n_classes)"
   ]
  },
  {
   "cell_type": "markdown",
   "metadata": {},
   "source": [
    "### Train, Validate and Test the Model"
   ]
  },
  {
   "cell_type": "markdown",
   "metadata": {},
   "source": [
    "A validation set can be used to assess how well the model is performing. A low accuracy on the training and validation\n",
    "sets imply underfitting. A high accuracy on the training set but low accuracy on the validation set implies overfitting."
   ]
  },
  {
   "cell_type": "code",
   "execution_count": 6,
   "metadata": {},
   "outputs": [],
   "source": [
    "### Train your model here.\n",
    "### Calculate and report the accuracy on the training and validation set.\n",
    "### Once a final model architecture is selected, \n",
    "### the accuracy on the test set should be calculated and reported as well.\n",
    "### Feel free to use as many code cells as needed.\n",
    "\n",
    "rate = 0.001\n",
    "\n",
    "logits = LeNet(x)\n",
    "cross_entropy = tf.nn.softmax_cross_entropy_with_logits(labels=one_hot_y, logits=logits)\n",
    "loss_operation = tf.reduce_mean(cross_entropy)\n",
    "optimizer = tf.train.AdamOptimizer(learning_rate = rate)\n",
    "training_operation = optimizer.minimize(loss_operation)\n",
    "\n",
    "correct_prediction = tf.equal(tf.argmax(logits, 1), tf.argmax(one_hot_y, 1))\n",
    "accuracy_operation = tf.reduce_mean(tf.cast(correct_prediction, tf.float32))\n",
    "saver = tf.train.Saver()\n",
    "\n",
    "def evaluate(X_data, y_data):\n",
    "    num_examples = len(X_data)\n",
    "    total_accuracy = 0\n",
    "    sess = tf.get_default_session()\n",
    "    for offset in range(0, num_examples, BATCH_SIZE):\n",
    "        batch_x, batch_y = X_data[offset:offset+BATCH_SIZE], y_data[offset:offset+BATCH_SIZE]\n",
    "        accuracy = sess.run(accuracy_operation, feed_dict={x: batch_x, y: batch_y, keep_prob: 1.0})\n",
    "        total_accuracy += (accuracy * len(batch_x))\n",
    "    return total_accuracy / num_examples"
   ]
  },
  {
   "cell_type": "code",
   "execution_count": 7,
   "metadata": {},
   "outputs": [
    {
     "name": "stdout",
     "output_type": "stream",
     "text": [
      "Training...\n",
      "\n",
      "EPOCH 1 ...\n",
      "Training Accuracy = 0.991 and Validation Accuracy = 0.921\n",
      "\n",
      "EPOCH 2 ...\n",
      "Training Accuracy = 0.998 and Validation Accuracy = 0.930\n",
      "\n",
      "EPOCH 3 ...\n",
      "Training Accuracy = 0.999 and Validation Accuracy = 0.933\n",
      "\n",
      "EPOCH 4 ...\n",
      "Training Accuracy = 1.000 and Validation Accuracy = 0.939\n",
      "\n",
      "EPOCH 5 ...\n",
      "Training Accuracy = 1.000 and Validation Accuracy = 0.931\n",
      "\n",
      "EPOCH 6 ...\n",
      "Training Accuracy = 1.000 and Validation Accuracy = 0.940\n",
      "\n",
      "EPOCH 7 ...\n",
      "Training Accuracy = 1.000 and Validation Accuracy = 0.942\n",
      "\n",
      "EPOCH 8 ...\n",
      "Training Accuracy = 1.000 and Validation Accuracy = 0.938\n",
      "\n",
      "EPOCH 9 ...\n",
      "Training Accuracy = 1.000 and Validation Accuracy = 0.937\n",
      "\n",
      "EPOCH 10 ...\n",
      "Training Accuracy = 1.000 and Validation Accuracy = 0.941\n",
      "\n",
      "Model saved\n"
     ]
    }
   ],
   "source": [
    "#Training\n",
    "\n",
    "with tf.Session() as sess:\n",
    "    sess.run(tf.global_variables_initializer())\n",
    "    num_examples = len(X_train)\n",
    "    \n",
    "    print(\"Training...\")\n",
    "    print()\n",
    "    highEpoch = 10\n",
    "    for i in range(EPOCHS*highEpoch):\n",
    "        X_train, y_train = shuffle(X_train, y_train)\n",
    "        for offset in range(0, num_examples, BATCH_SIZE):\n",
    "            end = offset + BATCH_SIZE\n",
    "            batch_x, batch_y = X_train[offset:end], y_train[offset:end]\n",
    "            sess.run(training_operation, feed_dict={x: batch_x, y: batch_y, keep_prob: 0.5})\n",
    "        \n",
    "        if i%highEpoch == highEpoch - 1 :\n",
    "            training_accuracy = evaluate(X_train, y_train)\n",
    "            validation_accuracy = evaluate(X_valid, y_valid)\n",
    "            print(\"EPOCH {} ...\".format(int(i/highEpoch)+1))\n",
    "            print(\"Training Accuracy = {:.3f} and Validation Accuracy = {:.3f}\".format(training_accuracy, validation_accuracy))\n",
    "            print()\n",
    "        \n",
    "    saver.save(sess, './lenet')\n",
    "    print(\"Model saved\")\n"
   ]
  },
  {
   "cell_type": "code",
   "execution_count": 8,
   "metadata": {},
   "outputs": [
    {
     "name": "stdout",
     "output_type": "stream",
     "text": [
      "INFO:tensorflow:Restoring parameters from lenet\n",
      "Performance on test set: 0.963\n"
     ]
    }
   ],
   "source": [
    "# Using the test set\n",
    "\n",
    "with tf.Session() as sess:\n",
    "\n",
    "    saver.restore(sess, 'lenet')\n",
    "    \n",
    "    test_accuracy = evaluate(X_test, y_test)\n",
    "    print('Performance on test set: {:.3f}'.format(test_accuracy))"
   ]
  },
  {
   "cell_type": "markdown",
   "metadata": {},
   "source": [
    "---\n",
    "\n",
    "## Step 3: Test a Model on New Images\n",
    "\n",
    "To give yourself more insight into how your model is working, download at least five pictures of German traffic signs from the web and use your model to predict the traffic sign type.\n",
    "\n",
    "You may find `signnames.csv` useful as it contains mappings from the class id (integer) to the actual sign name."
   ]
  },
  {
   "cell_type": "markdown",
   "metadata": {},
   "source": [
    "### Load and Output the Images"
   ]
  },
  {
   "cell_type": "code",
   "execution_count": 9,
   "metadata": {},
   "outputs": [
    {
     "data": {
      "image/png": "[encoded data removed]",
      "text/plain": [
       "<matplotlib.figure.Figure at 0x7f2c55dd30b8>"
      ]
     },
     "metadata": {},
     "output_type": "display_data"
    }
   ],
   "source": [
    "import os\n",
    "import cv2\n",
    "# load new images\n",
    "new_images_dir = './test images/'\n",
    "new_test_names = [ new_images_dir + f  for f in os.listdir(new_images_dir) if \".jpg\" in f]\n",
    "new_test_images = [cv2.resize(cv2.cvtColor(cv2.imread(f), cv2.COLOR_BGR2RGB),(32,32)) for f in new_test_names]\n",
    "new_targets = [int(a.split('/')[2].split('.')[0]) for a in new_test_names]\n",
    "\n",
    "# plot new test images\n",
    "fig, axarray = plt.subplots(1, len(new_test_images))\n",
    "for i, ax in enumerate(axarray.ravel()):\n",
    "    ax.imshow(new_test_images[i])\n",
    "    ax.set_title('{}'.format(i))\n",
    "    plt.setp(ax.get_xticklabels(), visible=False)\n",
    "    plt.setp(ax.get_yticklabels(), visible=False)\n",
    "    ax.set_xticks([]), ax.set_yticks([])\n"
   ]
  },
  {
   "cell_type": "markdown",
   "metadata": {},
   "source": [
    "### Predict the Sign Type for Each Image"
   ]
  },
  {
   "cell_type": "code",
   "execution_count": 10,
   "metadata": {},
   "outputs": [
    {
     "name": "stdout",
     "output_type": "stream",
     "text": [
      "INFO:tensorflow:Restoring parameters from ./lenet\n"
     ]
    }
   ],
   "source": [
    "new_test_images_processed = preprocess_features(new_test_images)\n",
    "\n",
    "with tf.Session() as sess:\n",
    "\n",
    "    saver.restore(sess, './lenet')\n",
    "\n",
    "    prediction = np.argmax(np.array(sess.run(logits, feed_dict={x: new_test_images_processed, keep_prob: 1.})), axis=1)\n"
   ]
  },
  {
   "cell_type": "markdown",
   "metadata": {},
   "source": [
    "### Analyze Performance"
   ]
  },
  {
   "cell_type": "code",
   "execution_count": 12,
   "metadata": {},
   "outputs": [
    {
     "name": "stdout",
     "output_type": "stream",
     "text": [
      "Image 1 - Target = Slippery road, Predicted = Slippery road\n",
      "Image 2 - Target = Turn right ahead, Predicted = Speed limit (20km/h)\n",
      "Image 3 - Target = No passing, Predicted = No passing\n",
      "Image 4 - Target = Speed limit (70km/h), Predicted = Speed limit (70km/h)\n",
      "Image 5 - Target = Speed limit (60km/h), Predicted = Speed limit (30km/h)\n",
      "> Model accuracy: 0.60\n"
     ]
    }
   ],
   "source": [
    "import csv\n",
    "\n",
    "signnames = []\n",
    "with open('signnames.csv') as csv_file:\n",
    "    csv_reader = csv.reader(csv_file)\n",
    "    line_count = 0\n",
    "    for row in csv_reader:\n",
    "        if line_count == 0:\n",
    "            line_count += 1\n",
    "        else:\n",
    "            signnames.append(row[1])\n",
    "            line_count += 1\n",
    "            \n",
    "for i, pred in enumerate(prediction):\n",
    "    print('Image {} - Target = {}, Predicted = {}'.format(i+1, signnames[new_targets[i]], signnames[pred]))\n",
    "    \n",
    "print('> Model accuracy: {:.02f}'.format(np.sum(new_targets==prediction)/len(new_targets)))\n"
   ]
  },
  {
   "cell_type": "markdown",
   "metadata": {},
   "source": [
    "### Output Top 5 Softmax Probabilities For Each Image Found on the Web"
   ]
  },
  {
   "cell_type": "markdown",
   "metadata": {},
   "source": [
    "For each of the new images, print out the model's softmax probabilities to show the **certainty** of the model's predictions (limit the output to the top 5 probabilities for each image). [`tf.nn.top_k`](https://www.tensorflow.org/versions/r0.12/api_docs/python/nn.html#top_k) could prove helpful here. \n",
    "\n",
    "The example below demonstrates how tf.nn.top_k can be used to find the top k predictions for each image.\n",
    "\n",
    "`tf.nn.top_k` will return the values and indices (class ids) of the top k predictions. So if k=3, for each sign, it'll return the 3 largest probabilities (out of a possible 43) and the correspoding class ids.\n",
    "\n",
    "Take this numpy array as an example. The values in the array represent predictions. The array contains softmax probabilities for five candidate images with six possible classes. `tf.nn.top_k` is used to choose the three classes with the highest probability:\n",
    "\n",
    "```\n",
    "# (5, 6) array\n",
    "a = np.array([[ 0.24879643,  0.07032244,  0.12641572,  0.34763842,  0.07893497,\n",
    "         0.12789202],\n",
    "       [ 0.28086119,  0.27569815,  0.08594638,  0.0178669 ,  0.18063401,\n",
    "         0.15899337],\n",
    "       [ 0.26076848,  0.23664738,  0.08020603,  0.07001922,  0.1134371 ,\n",
    "         0.23892179],\n",
    "       [ 0.11943333,  0.29198961,  0.02605103,  0.26234032,  0.1351348 ,\n",
    "         0.16505091],\n",
    "       [ 0.09561176,  0.34396535,  0.0643941 ,  0.16240774,  0.24206137,\n",
    "         0.09155967]])\n",
    "```\n",
    "\n",
    "Running it through `sess.run(tf.nn.top_k(tf.constant(a), k=3))` produces:\n",
    "\n",
    "```\n",
    "TopKV2(values=array([[ 0.34763842,  0.24879643,  0.12789202],\n",
    "       [ 0.28086119,  0.27569815,  0.18063401],\n",
    "       [ 0.26076848,  0.23892179,  0.23664738],\n",
    "       [ 0.29198961,  0.26234032,  0.16505091],\n",
    "       [ 0.34396535,  0.24206137,  0.16240774]]), indices=array([[3, 0, 5],\n",
    "       [0, 1, 4],\n",
    "       [0, 5, 1],\n",
    "       [1, 3, 5],\n",
    "       [1, 4, 3]], dtype=int32))\n",
    "```\n",
    "\n",
    "Looking just at the first row we get `[ 0.34763842,  0.24879643,  0.12789202]`, you can confirm these are the 3 largest probabilities in `a`. You'll also notice `[3, 0, 5]` are the corresponding indices."
   ]
  },
  {
   "cell_type": "code",
   "execution_count": 16,
   "metadata": {},
   "outputs": [
    {
     "name": "stdout",
     "output_type": "stream",
     "text": [
      "INFO:tensorflow:Restoring parameters from ./lenet\n",
      "Top 5 model predictions for image 1 (Target is Slippery road)\n",
      "   Prediction = Slippery road with confidence 0.97\n",
      "   Prediction = Speed limit (50km/h) with confidence 0.03\n",
      "   Prediction = Beware of ice/snow with confidence 0.00\n",
      "   Prediction = Right-of-way at the next intersection with confidence 0.00\n",
      "   Prediction = Keep right with confidence 0.00\n",
      "Top 5 model predictions for image 2 (Target is Turn right ahead)\n",
      "   Prediction = Speed limit (20km/h) with confidence 0.98\n",
      "   Prediction = General caution with confidence 0.02\n",
      "   Prediction = Speed limit (30km/h) with confidence 0.00\n",
      "   Prediction = Keep right with confidence 0.00\n",
      "   Prediction = Turn right ahead with confidence 0.00\n",
      "Top 5 model predictions for image 3 (Target is No passing)\n",
      "   Prediction = No passing with confidence 1.00\n",
      "   Prediction = Vehicles over 3.5 metric tons prohibited with confidence 0.00\n",
      "   Prediction = Speed limit (60km/h) with confidence 0.00\n",
      "   Prediction = Speed limit (100km/h) with confidence 0.00\n",
      "   Prediction = No passing for vehicles over 3.5 metric tons with confidence 0.00\n",
      "Top 5 model predictions for image 4 (Target is Speed limit (70km/h))\n",
      "   Prediction = Speed limit (70km/h) with confidence 0.82\n",
      "   Prediction = Speed limit (30km/h) with confidence 0.14\n",
      "   Prediction = No vehicles with confidence 0.02\n",
      "   Prediction = General caution with confidence 0.01\n",
      "   Prediction = Stop with confidence 0.00\n",
      "Top 5 model predictions for image 5 (Target is Speed limit (60km/h))\n",
      "   Prediction = Speed limit (30km/h) with confidence 1.00\n",
      "   Prediction = Speed limit (70km/h) with confidence 0.00\n",
      "   Prediction = Speed limit (60km/h) with confidence 0.00\n",
      "   Prediction = Speed limit (50km/h) with confidence 0.00\n",
      "   Prediction = Road work with confidence 0.00\n"
     ]
    },
    {
     "data": {
      "image/png": "[encoded data removed]",
      "text/plain": [
       "<matplotlib.figure.Figure at 0x7f2c9bbdd278>"
      ]
     },
     "metadata": {
      "needs_background": "light"
     },
     "output_type": "display_data"
    }
   ],
   "source": [
    "with tf.Session() as sess:\n",
    "\n",
    "    saver.restore(sess, './lenet')\n",
    "    \n",
    "    K = 5\n",
    "    top_k = sess.run(tf.nn.top_k(logits, k=K), feed_dict={x: new_test_images_processed, keep_prob: 1.0})\n",
    "\n",
    "    softmax_probs = sess.run(tf.nn.softmax(logits), feed_dict={x: new_test_images_processed, keep_prob: 1.0})\n",
    "\n",
    "n_images = len(new_test_images_processed)\n",
    "fig, axarray = plt.subplots(n_images, 2)\n",
    "plt.suptitle('Softmax probabilities for each example', fontweight='bold')\n",
    "\n",
    "\n",
    "for r in range(0, n_images):\n",
    "    axarray[r, 0].imshow(np.squeeze(new_test_images[r]))\n",
    "    axarray[r, 0].set_xticks([]), axarray[r, 0].set_yticks([])\n",
    "    plt.setp(axarray[r, 0].get_xticklabels(), visible=False)\n",
    "    plt.setp(axarray[r, 0].get_yticklabels(), visible=False)\n",
    "    axarray[r, 1].bar(np.arange(n_classes), softmax_probs[r])\n",
    "    axarray[r, 1].set_ylim([0, 1])\n",
    "    \n",
    "for i in range(len(new_test_images)):\n",
    "    print('Top {} model predictions for image {} (Target is {})'.format(K, i+1, signnames[new_targets[i]]))\n",
    "    for k in range(K):\n",
    "        top_c = top_k[1][i][k]\n",
    "        print('   Prediction = {} with confidence {:.2f}'.format(signnames[top_c], softmax_probs[i][top_c]))"
   ]
  },
  {
   "cell_type": "markdown",
   "metadata": {},
   "source": [
    "### Project Writeup\n",
    "\n",
    "Once you have completed the code implementation, document your results in a project writeup using this [template](https://github.com/udacity/CarND-Traffic-Sign-Classifier-Project/blob/master/writeup_template.md) as a guide. The writeup can be in a markdown or pdf file. "
   ]
  },
  {
   "cell_type": "markdown",
   "metadata": {},
   "source": [
    "> **Note**: Once you have completed all of the code implementations and successfully answered each question above, you may finalize your work by exporting the iPython Notebook as an HTML document. You can do this by using the menu above and navigating to  \\n\",\n",
    "    \"**File -> Download as -> HTML (.html)**. Include the finished document along with this notebook as your submission."
   ]
  }
 ],
 "metadata": {
  "anaconda-cloud": {},
  "kernelspec": {
   "display_name": "Python 3",
   "language": "python",
   "name": "python3"
  },
  "language_info": {
   "codemirror_mode": {
    "name": "ipython",
    "version": 3
   },
   "file_extension": ".py",
   "mimetype": "text/x-python",
   "name": "python",
   "nbconvert_exporter": "python",
   "pygments_lexer": "ipython3",
   "version": "3.6.3"
  }
 },
 "nbformat": 4,
 "nbformat_minor": 1
}
